{
 "cells": [
  {
   "cell_type": "markdown",
   "id": "973c84e8",
   "metadata": {},
   "source": [
    "# Data Science Tools and Ecosystem"
   ]
  },
  {
   "cell_type": "markdown",
   "id": "47dde117",
   "metadata": {},
   "source": [
    "In this notebook, Data Science Tools and Ecosystem are summarized. you will know some data science programming languages, libraries and also tools."
   ]
  },
  {
   "cell_type": "markdown",
   "id": "ab619007",
   "metadata": {},
   "source": [
    "Some of the popular languages that Data Scientists use are: \n",
    "1. Python\n",
    "2. R\n",
    "3. SQL"
   ]
  },
  {
   "cell_type": "markdown",
   "id": "ed599fef",
   "metadata": {},
   "source": [
    "Some of the commonly used libraries used by Data Scientists include:\n",
    "1. Scikit-learn\n",
    "2. Keras\n",
    "3. TensorFlow\n",
    "4. Pandas\n",
    "5. Numpy\n",
    "6. Scipy\n",
    "7. Matplotlib"
   ]
  },
  {
   "cell_type": "markdown",
   "id": "e0389542",
   "metadata": {},
   "source": [
    "Jupyter Notebook / Kaggle / Github / Weka / Tableau / Pentaho / etc."
   ]
  },
  {
   "cell_type": "markdown",
   "id": "1d047e87",
   "metadata": {},
   "source": [
    "Data Science Tools\n",
    "\n",
    "| Tools        |\n",
    "|--------------|\n",
    "| Python       |\n",
    "| R            |\n",
    "| SQL          |\n",
    "| TensorFlow   |\n",
    "| PyTorch      | \n",
    "| Jupyter      | "
   ]
  },
  {
   "cell_type": "markdown",
   "id": "ec8f0554",
   "metadata": {},
   "source": [
    "Below are a few examples of evaluating arithmetic expressions in Python\n",
    "- Addition: 5+5\n",
    "- Subtraction: 5-5\n",
    "- Multiplication: 5*5\n",
    "- Division: 5//2"
   ]
  },
  {
   "cell_type": "code",
   "execution_count": 9,
   "id": "fe5efcb0",
   "metadata": {},
   "outputs": [
    {
     "data": {
      "text/plain": [
       "17"
      ]
     },
     "execution_count": 9,
     "metadata": {},
     "output_type": "execute_result"
    }
   ],
   "source": [
    "# This a simple arithmetic expression to mutiply then add integers\n",
    "(3*4) + 5"
   ]
  },
  {
   "cell_type": "code",
   "execution_count": 11,
   "id": "2a2286e2",
   "metadata": {},
   "outputs": [
    {
     "name": "stdout",
     "output_type": "stream",
     "text": [
      "Minutes : 200\n",
      "the time is :  3 hours and  20 minutes\n"
     ]
    }
   ],
   "source": [
    "# This will convert 200 minutes to hours by diving by 60\n",
    "x = input(\"Minutes : \")\n",
    "hours = int(x)//60\n",
    "minutes = int(x)% 60\n",
    "print(\"the time is : \", hours, \"hours and \",minutes, \"minutes\")"
   ]
  },
  {
   "cell_type": "markdown",
   "id": "d03d0bbe",
   "metadata": {},
   "source": [
    "Objetives : \n",
    "- Data Science Languages\n",
    "- Data Science Libraries\n",
    "- Data Science Tools"
   ]
  },
  {
   "cell_type": "markdown",
   "id": "52e8426f",
   "metadata": {},
   "source": [
    "## Author's Name : Nouh Taha"
   ]
  },
  {
   "cell_type": "code",
   "execution_count": null,
   "id": "e24b6232",
   "metadata": {},
   "outputs": [],
   "source": []
  }
 ],
 "metadata": {
  "kernelspec": {
   "display_name": "Python 3 (ipykernel)",
   "language": "python",
   "name": "python3"
  },
  "language_info": {
   "codemirror_mode": {
    "name": "ipython",
    "version": 3
   },
   "file_extension": ".py",
   "mimetype": "text/x-python",
   "name": "python",
   "nbconvert_exporter": "python",
   "pygments_lexer": "ipython3",
   "version": "3.11.5"
  }
 },
 "nbformat": 4,
 "nbformat_minor": 5
}
